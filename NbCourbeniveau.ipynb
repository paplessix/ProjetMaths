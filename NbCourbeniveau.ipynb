{
 "cells": [
  {
   "cell_type": "code",
   "execution_count": 6,
   "metadata": {},
   "outputs": [],
   "source": [
    "import autograd as autograd \n",
    "from autograd import numpy as np \n",
    "import matplotlib.pyplot as plt\n",
    "\n",
    "%matplotlib inline"
   ]
  },
  {
   "cell_type": "markdown",
   "metadata": {},
   "source": [
    "\n",
    "# Projet Maths info\n",
    "## Courbes de niveau \n",
    "\n"
   ]
  },
  {
   "cell_type": "markdown",
   "metadata": {},
   "source": [
    "# Déceler une amorce\n",
    "**Méthode de Newton à 1D pour des fonctions de 1 variable**\n",
    "- Soit $f: [0,1]² \\to \\mathbb{R}$ , considérons $ g:[0,1] \\to \\mathbb{R} , y \\mapsto f(x,y)$ la fonction de une variable.\n",
    "- Résolvons l'équation $g(y)=c$ sur $[0,1]$ :\n",
    "    - Pour ce faire utilisons la méthode de Newton qui nous dit, en supposant que la fonction est différentiable et que sa dérivéee ne s'annule pas sur $[0,1]$,  que la suite $(_k)_\\mathbb{N}$ définie par $ y_{k+1}=y_{k} -\\frac{g(x_k)}{g'(x_{k})}$ est convrgente et de limite y solution de l'équation $g(y)=c$\n",
    "- On implémente ainsi l'algorithme de résolution d'équation en construisant itérativement la suite.\n",
    "- On considère la limite atteinte lorsque la distance entre deux $x_k$ successifs est plus petit qu'un certain $\\epsilon$ fixé\n"
   ]
  },
  {
   "cell_type": "code",
   "execution_count": 7,
   "metadata": {},
   "outputs": [],
   "source": [
    "def find_seed(g,c=0,eps=2**(-26)):\n",
    "    if (g([0,1])-c)*(g([0,0])-c)<0:\n",
    "        return None\n",
    "    else : \n",
    "        gradg=autograd.grad(g)\n",
    "        x_0=5\n",
    "        x=x_0-(g(np.array([0.,x_0]))-c)/gradg(np.array([0.,x_0]))[1]\n",
    "        while abs(x-x_0)>eps:\n",
    "            x_0=x\n",
    "            x=x_0-(g(np.array([0,x_0]))-c)/gradg(np.array([0,x_0]))[1]\n",
    "        return [0,x]"
   ]
  },
  {
   "cell_type": "code",
   "execution_count": 8,
   "metadata": {},
   "outputs": [],
   "source": [
    "g= lambda X : (X[1])**2 +(X[0])**2"
   ]
  },
  {
   "cell_type": "code",
   "execution_count": 9,
   "metadata": {},
   "outputs": [
    {
     "data": {
      "text/plain": [
       "[0, 1.0]"
      ]
     },
     "execution_count": 9,
     "metadata": {},
     "output_type": "execute_result"
    }
   ],
   "source": [
    "find_seed(g,1)"
   ]
  },
  {
   "cell_type": "markdown",
   "metadata": {},
   "source": [
    "# Tracer de lignes de niveau\n",
    "## Construction par cheminement\n",
    "\n",
    "On utlise ici la propriété qui énonce que une certaine ligne de niveau est en tout point perpendiculaire au gradient. On part donc d'une amorce que l'on calcule avec la fonction  <find_seed> et on se déplace d'une distance delta selon la direction perpendiculaire au gradient en ce point. L'erreur s'accumule à chaque itération, mais l'implémentation est relativement aisée.\n",
    "Cf. $Méthode\\space d'Euler$ qui est d'ordre 1 \n"
   ]
  },
  {
   "cell_type": "code",
   "execution_count": 15,
   "metadata": {},
   "outputs": [
    {
     "data": {
      "text/plain": [
       "[<matplotlib.lines.Line2D at 0x1b29806ae10>]"
      ]
     },
     "execution_count": 15,
     "metadata": {},
     "output_type": "execute_result"
    },
    {
     "data": {
      "image/png": "[encoded data removed]",
      "text/plain": [
       "<Figure size 432x288 with 1 Axes>"
      ]
     },
     "metadata": {
      "needs_background": "light"
     },
     "output_type": "display_data"
    }
   ],
   "source": [
    "def chemin (g,c=0,delta=0.001):\n",
    "    abscisses,ordonnées =[],[]\n",
    "    position=np.array(find_seed(g,c))\n",
    "    gradg=autograd.grad(g)\n",
    "    abscisses.append(position[0])\n",
    "    ordonnées.append(position[1])\n",
    "    def test (position) :\n",
    "        return 0<=position[0]<=1 and 0<=position[1]<=1\n",
    "    \n",
    "    while test(position) :\n",
    "        gradX = gradg(position)\n",
    "        norme = np.sqrt(gradX[1]**2+gradX[0]**2)\n",
    "        vect = np.array([gradX[1]/norme,-1*gradX[0]/norme])\n",
    "        position = position + vect*delta\n",
    "        abscisses.append(position[0])\n",
    "        ordonnées.append(position[1])\n",
    "    return abscisses,ordonnées\n",
    "    \n",
    "a=chemin(g,1)\n",
    "plt.plot(a[0],a[1])\n",
    "\n",
    "        \n"
   ]
  },
  {
   "cell_type": "code",
   "execution_count": null,
   "metadata": {},
   "outputs": [],
   "source": []
  },
  {
   "cell_type": "code",
   "execution_count": null,
   "metadata": {},
   "outputs": [],
   "source": []
  }
 ],
 "metadata": {
  "file_extension": ".py",
  "kernelspec": {
   "display_name": "Python 3",
   "language": "python",
   "name": "python3"
  },
  "language_info": {
   "codemirror_mode": {
    "name": "ipython",
    "version": 3
   },
   "file_extension": ".py",
   "mimetype": "text/x-python",
   "name": "python",
   "nbconvert_exporter": "python",
   "pygments_lexer": "ipython3",
   "version": "3.7.3"
  },
  "mimetype": "text/x-python",
  "name": "python",
  "npconvert_exporter": "python",
  "pygments_lexer": "ipython3",
  "version": 3
 },
 "nbformat": 4,
 "nbformat_minor": 2
}
