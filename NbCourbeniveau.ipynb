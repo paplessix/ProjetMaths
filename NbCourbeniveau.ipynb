{
 "cells": [
  {
   "cell_type": "code",
   "execution_count": 1,
   "metadata": {},
   "outputs": [],
   "source": [
    "import autograd as autograd \n",
    "from autograd import numpy as np \n",
    "import matplotlib.pyplot as plt "
   ]
  },
  {
   "cell_type": "markdown",
   "metadata": {},
   "source": [
    "\n",
    "# Projet Maths info\n",
    "## Courbes de niveau \n",
    "\n"
   ]
  },
  {
   "cell_type": "markdown",
   "metadata": {},
   "source": [
    "# Déceler une amorce\n",
    "**Méthode de Newton à 1D pour des fonctions de 1 variable**\n",
    "- Soit $f: [0,1]² \\to \\mathbb{R}$ , considérons $ g:[0,1] \\to \\mathbb{R} , y \\mapsto f(x,y)$ la fonction de une variable.\n",
    "- Résolvons l'équation $g(y)=c$ sur $[0,1]$ :\n",
    "    - Pour ce faire utilisons la méthode de Newton qui nous dit, en supposant que la fonction est différentiable et que sa dérivéee ne s'annule pas sur $[0,1]$,  que la suite $(_k)_\\mathbb{N}$ définie par $ y_{k+1}=y_{k} -\\frac{g(x_k)}{g'(x_{k})}$ est convrgente et de limite y solution de l'équation $g(y)=c$\n",
    "- On implémente ainsi l'algorithme de résolution d'équation en construisant itérativement la suite.\n",
    "- On considère la limite atteinte lorsque la distance entre deux $x_k$ successifs est plus petit qu'un certain $\\epsilon$ fixé\n"
   ]
  },
  {
   "cell_type": "code",
   "execution_count": 2,
   "metadata": {},
   "outputs": [],
   "source": [
    "def find_seed(g,c=0,eps=2**(-26)):\n",
    "    if (g([0,1])-c)*(g([0,0])-c)<0:\n",
    "        return None\n",
    "    else : \n",
    "        gradg=autograd.grad(g)\n",
    "        x_0=5\n",
    "        x=x_0-(g(np.array([0.,x_0]))-c)/gradg(np.array([0.,x_0]))[1]\n",
    "        while abs(x-x_0)>eps:\n",
    "            x_0=x\n",
    "            x=x_0-(g(np.array([0,x_0]))-c)/gradg(np.array([0,x_0]))[1]\n",
    "        return [0,x] "
   ]
  },
  {
   "cell_type": "code",
   "execution_count": 3,
   "metadata": {},
   "outputs": [],
   "source": [
    "g= lambda X : (X[1])**2 +(X[0])**2"
   ]
  },
  {
   "cell_type": "code",
   "execution_count": 4,
   "metadata": {},
   "outputs": [
    {
     "data": {
      "text/plain": [
       "[0, 1.0]"
      ]
     },
     "execution_count": 4,
     "metadata": {},
     "output_type": "execute_result"
    }
   ],
   "source": [
    "find_seed(g,1)"
   ]
  },
  {
   "cell_type": "code",
   "execution_count": null,
   "metadata": {},
   "outputs": [],
   "source": []
  }
 ],
 "metadata": {
  "file_extension": ".py",
  "kernelspec": {
   "display_name": "Python 3",
   "language": "python",
   "name": "python3"
  },
  "language_info": {
   "codemirror_mode": {
    "name": "ipython",
    "version": 3
   },
   "file_extension": ".py",
   "mimetype": "text/x-python",
   "name": "python",
   "nbconvert_exporter": "python",
   "pygments_lexer": "ipython3",
   "version": "3.7.3"
  },
  "mimetype": "text/x-python",
  "name": "python",
  "npconvert_exporter": "python",
  "pygments_lexer": "ipython3",
  "version": 3
 },
 "nbformat": 4,
 "nbformat_minor": 2
}
